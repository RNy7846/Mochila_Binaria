{
  "nbformat": 4,
  "nbformat_minor": 0,
  "metadata": {
    "colab": {
      "name": "MochilaBinaria.ipynb",
      "provenance": [],
      "collapsed_sections": [],
      "mount_file_id": "1CUYmRy82QGs5fDC2aQqKBsPNKo4EMNUS",
      "authorship_tag": "ABX9TyOoyGY8V8ZKYvPoXv34SomZ",
      "include_colab_link": true
    },
    "kernelspec": {
      "name": "python3",
      "display_name": "Python 3"
    },
    "language_info": {
      "name": "python"
    }
  },
  "cells": [
    {
      "cell_type": "markdown",
      "metadata": {
        "id": "view-in-github",
        "colab_type": "text"
      },
      "source": [
        "<a href=\"https://colab.research.google.com/github/RNy7846/Mochila_Binaria/blob/main/MochilaBinaria.ipynb\" target=\"_parent\"><img src=\"https://colab.research.google.com/assets/colab-badge.svg\" alt=\"Open In Colab\"/></a>"
      ]
    },
    {
      "cell_type": "code",
      "source": [
        "!pip install mip"
      ],
      "metadata": {
        "colab": {
          "base_uri": "https://localhost:8080/"
        },
        "id": "9kokPl1XOvFJ",
        "outputId": "6d7a5d2f-5ac0-43de-fd30-4e7f465db731"
      },
      "execution_count": null,
      "outputs": [
        {
          "output_type": "stream",
          "name": "stdout",
          "text": [
            "Requirement already satisfied: mip in /usr/local/lib/python3.7/dist-packages (1.13.0)\n",
            "Requirement already satisfied: cffi in /usr/local/lib/python3.7/dist-packages (from mip) (1.15.0)\n",
            "Requirement already satisfied: pycparser in /usr/local/lib/python3.7/dist-packages (from cffi->mip) (2.21)\n"
          ]
        }
      ]
    },
    {
      "cell_type": "code",
      "source": [
        "from mip import *\n",
        "import random"
      ],
      "metadata": {
        "id": "xfBohNaaMnU-"
      },
      "execution_count": null,
      "outputs": []
    },
    {
      "cell_type": "code",
      "source": [
        "# Constantes\n",
        "RANDOM_SEED   = 2\n",
        "NUM_PRODUTOS  = 10\n",
        "NUM_MOCHILAS  = 2"
      ],
      "metadata": {
        "id": "x__F8p_uPvsN"
      },
      "execution_count": null,
      "outputs": []
    },
    {
      "cell_type": "code",
      "source": [
        "# Gerar produtos com peso e valor aleatórios\n",
        "def gerar_produtos(prod):\n",
        "    random.seed(RANDOM_SEED)\n",
        "    for i in range(NUM_PRODUTOS):\n",
        "        cod = 'p_{}'.format(i)\n",
        "        valor = random.choice(range(1,10)) # Valor em reais\n",
        "        peso = random.choice(range(100,999)) # Valor em reais\n",
        "        prod[cod] = {\n",
        "            'valor': valor,\n",
        "            'peso': peso\n",
        "        }"
      ],
      "metadata": {
        "id": "X2orvJkPQAT1"
      },
      "execution_count": null,
      "outputs": []
    },
    {
      "cell_type": "code",
      "source": [
        "# Gera mochilas com pesos aleatórias\n",
        "def gerar_mochilas(moc):\n",
        "    random.seed(RANDOM_SEED)\n",
        "    for i in range(NUM_MOCHILAS):\n",
        "        cod = 'm_{}'.format(i)\n",
        "        carga_maxima = random.choice(range(500,2000)) # Carga máxima em gramas\n",
        "        moc[cod] = {\n",
        "            'carga_maxima': carga_maxima\n",
        "        }"
      ],
      "metadata": {
        "id": "o1s6CscSQNwV"
      },
      "execution_count": null,
      "outputs": []
    },
    {
      "cell_type": "code",
      "source": [
        "\n",
        "# Variável que armazena os Dados\n",
        "produtos = {}\n",
        "mochilas = {}\n",
        "gerar_produtos(produtos)\n",
        "gerar_mochilas(mochilas)\n"
      ],
      "metadata": {
        "id": "wZRDdVdNMqgu"
      },
      "execution_count": null,
      "outputs": []
    },
    {
      "cell_type": "code",
      "source": [
        "# Imprimir os produtos\n",
        "def imprimir_produtos(prod):\n",
        "    print(\"PRODUTOS\")\n",
        "    print(\"Cód \\tValor \\t\\tPeso\")\n",
        "    for p in prod:\n",
        "        print(\"{}\\tR$ {},00 \\t{}g\".format(p, prod[p]['valor'], prod[p]['peso']))"
      ],
      "metadata": {
        "id": "jj45KfX9QRxk"
      },
      "execution_count": null,
      "outputs": []
    },
    {
      "cell_type": "code",
      "source": [
        "# Todos os produtos\n",
        "imprimir_produtos(produtos)"
      ],
      "metadata": {
        "colab": {
          "base_uri": "https://localhost:8080/"
        },
        "id": "hpn0bnfLPyFW",
        "outputId": "7aafdf69-576d-4420-f34d-134ffeb18f63"
      },
      "execution_count": null,
      "outputs": [
        {
          "output_type": "stream",
          "name": "stdout",
          "text": [
            "PRODUTOS\n",
            "Cód \tValor \t\tPeso\n",
            "p_0\tR$ 1,00 \t193g\n",
            "p_1\tR$ 2,00 \t469g\n",
            "p_2\tR$ 3,00 \t853g\n",
            "p_3\tR$ 5,00 \t357g\n",
            "p_4\tR$ 4,00 \t721g\n",
            "p_5\tR$ 1,00 \t695g\n",
            "p_6\tR$ 3,00 \t541g\n",
            "p_7\tR$ 7,00 \t922g\n",
            "p_8\tR$ 9,00 \t480g\n",
            "p_9\tR$ 9,00 \t555g\n"
          ]
        }
      ]
    },
    {
      "cell_type": "code",
      "source": [
        "# Imprime as mochilas\n",
        "def imprimir_mochilas(moc):\n",
        "    print(\"\\nMOCHILAS\")\n",
        "    print(\"Cód \\tCarga Máxima\")\n",
        "    for m in moc:\n",
        "        print(\"{} \\t{}g\".format(m, moc[m]['carga_maxima']))"
      ],
      "metadata": {
        "id": "CtNio39lQWvE"
      },
      "execution_count": null,
      "outputs": []
    },
    {
      "cell_type": "code",
      "source": [
        "# Todas as mochilas\n",
        "imprimir_mochilas(mochilas)"
      ],
      "metadata": {
        "colab": {
          "base_uri": "https://localhost:8080/"
        },
        "id": "1KcMYmIfP0NF",
        "outputId": "1aa182cc-2926-46cf-dde4-a9317666941a"
      },
      "execution_count": null,
      "outputs": [
        {
          "output_type": "stream",
          "name": "stdout",
          "text": [
            "\n",
            "MOCHILAS\n",
            "Cód \tCarga Máxima\n",
            "m_0 \t615g\n",
            "m_1 \t687g\n"
          ]
        }
      ]
    },
    {
      "cell_type": "code",
      "source": [
        "# Modelo \n",
        "modelo = Model(sense=MAXIMIZE)"
      ],
      "metadata": {
        "id": "lqq4gwyXP1gm"
      },
      "execution_count": null,
      "outputs": []
    },
    {
      "cell_type": "code",
      "source": [
        "# Variáveis de decisão\n",
        "carga = {} # qual produto será colcoado em cada mochila"
      ],
      "metadata": {
        "id": "HRdkRHMhP2we"
      },
      "execution_count": null,
      "outputs": []
    },
    {
      "cell_type": "code",
      "source": [
        "for m in mochilas:\n",
        "    for p in produtos:\n",
        "        carga[(m, p)] = modelo.add_var(var_type=BINARY)     \n",
        "        \n",
        "#O mesmo produto não pode ser colocado nas duas mochilas\n",
        "for p in produtos:        \n",
        "    modelo += xsum(carga[(m, p)] for m in mochilas) <= 1\n",
        "\n",
        "#A soma dos pesos dos produtos alocados em uma mochila não devem ser maior do que a carga máxima suportada pela mochila\n",
        "for m in mochilas:    \n",
        "    modelo += xsum(carga[(m, p)] * produtos[p]['peso'] for p in produtos) <= mochilas[m]['carga_maxima']\n",
        "\n",
        "# Função Objetivo\n",
        "modelo.objective = maximize(\n",
        "    xsum(carga[(m, p)] * produtos[p]['valor']\n",
        "         for m in mochilas \n",
        "             for p in produtos\n",
        "         if (m, p) in carga\n",
        "    )\n",
        ")\n",
        "\n",
        "modelo.optimize()\n"
      ],
      "metadata": {
        "colab": {
          "base_uri": "https://localhost:8080/"
        },
        "id": "MaNUsazHMtY9",
        "outputId": "34770b5d-0798-443f-dfa0-ca6b5a997b1e"
      },
      "execution_count": null,
      "outputs": [
        {
          "output_type": "execute_result",
          "data": {
            "text/plain": [
              "<OptimizationStatus.OPTIMAL: 0>"
            ]
          },
          "metadata": {},
          "execution_count": 57
        }
      ]
    },
    {
      "cell_type": "code",
      "source": [
        "# Resultado\n",
        "print(\"\\n=====\")\n",
        "print(\"Valor Total em Todas as Mochilas {}\".format(modelo.objective_values))\n",
        "print(\"=====\")\n",
        "for m in mochilas:\n",
        "    print(\"\\nCarga da Mochila {} com capacidade de {}g\".format(m, mochilas[m]['carga_maxima']))\n",
        "    valor_total = 0\n",
        "    carga_total = 0\n",
        "    for p in produtos:\n",
        "        if (carga[(m, p)].x == 1):\n",
        "            valor_total += produtos[p]['valor']\n",
        "            carga_total += produtos[p]['peso']\n",
        "            print(\"{} \\tR$ {},00 \\t{}g\".format(p, produtos[p]['valor'], produtos[p]['peso']))\n",
        "    \n",
        "    print(\"-\\nValor Total: R$ {},00 \\nCarga Total: {}g\\nCapacidade Ociosa: {}g\".format(valor_total, carga_total, (mochilas[m]['carga_maxima']-carga_total)))"
      ],
      "metadata": {
        "colab": {
          "base_uri": "https://localhost:8080/"
        },
        "id": "Qjs2gaOVMwjj",
        "outputId": "c6a536a6-5e00-4df1-c611-9f4d6e09517c"
      },
      "execution_count": null,
      "outputs": [
        {
          "output_type": "stream",
          "name": "stdout",
          "text": [
            "\n",
            "=====\n",
            "Valor Total em Todas as Mochilas [-19.0]\n",
            "=====\n",
            "\n",
            "Carga da Mochila m_0 com capacidade de 615g\n",
            "p_9 \tR$ 9,00 \t555g\n",
            "-\n",
            "Valor Total: R$ 9,00 \n",
            "Carga Total: 555g\n",
            "Capacidade Ociosa: 60g\n",
            "\n",
            "Carga da Mochila m_1 com capacidade de 687g\n",
            "p_0 \tR$ 1,00 \t193g\n",
            "p_8 \tR$ 9,00 \t480g\n",
            "-\n",
            "Valor Total: R$ 10,00 \n",
            "Carga Total: 673g\n",
            "Capacidade Ociosa: 14g\n"
          ]
        }
      ]
    }
  ]
}